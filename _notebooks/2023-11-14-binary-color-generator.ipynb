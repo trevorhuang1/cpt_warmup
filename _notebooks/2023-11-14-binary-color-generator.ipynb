{
 "cells": [
  {
   "cell_type": "code",
   "execution_count": null,
   "metadata": {},
   "outputs": [],
   "source": []
  },
  {
   "cell_type": "markdown",
   "metadata": {},
   "source": [
    "---\n",
    "toc: false\n",
    "comments: false\n",
    "layout: post\n",
    "title: Binary Color Generator\n",
    "description: Random color generator chooses random numbers between 0 and 255 for each of red, green, and blue. The decimal is converted into 8-bit binary nd displays the color combination in (R, G, B) and their binary representaations.\n",
    "courses: {compsci: {week: 13}}\n",
    "type: tangibles\n",
    "---"
   ]
  },
  {
   "cell_type": "code",
   "execution_count": 1,
   "metadata": {},
   "outputs": [
    {
     "name": "stdout",
     "output_type": "stream",
     "text": [
      "RGB: (127, 132, 191)\n",
      "Red:   01111111\n",
      "Green: 10000100\n",
      "Blue:  10111111\n",
      "RGB: (122, 221, 120)\n",
      "Red:   01111010\n",
      "Green: 11011101\n",
      "Blue:  01111000\n",
      "RGB: (1, 228, 98)\n",
      "Red:   00000001\n",
      "Green: 11100100\n",
      "Blue:  01100010\n",
      "RGB: (47, 40, 43)\n",
      "Red:   00101111\n",
      "Green: 00101000\n",
      "Blue:  00101011\n",
      "RGB: (83, 116, 200)\n",
      "Red:   01010011\n",
      "Green: 01110100\n",
      "Blue:  11001000\n"
     ]
    }
   ],
   "source": [
    "import random\n",
    "\n",
    "def generate_random_color():\n",
    "    red = random.randint(0, 255)\n",
    "    green = random.randint(0, 255)\n",
    "    blue = random.randint(0, 255)\n",
    "    return red, green, blue\n",
    "\n",
    "def decimal_to_binary(decimal):\n",
    "    binary = bin(decimal)[2:]\n",
    "    return binary.zfill(8)  # Ensure the binary representation is 8 bits\n",
    "\n",
    "num_iterations=3\n",
    "\n",
    "def display_binary_color(num_iterations):\n",
    "    for _ in range(num_iterations):\n",
    "        color = generate_random_color()\n",
    "        red_binary = decimal_to_binary(color[0])\n",
    "        green_binary = decimal_to_binary(color[1])\n",
    "        blue_binary = decimal_to_binary(color[2])\n",
    "\n",
    "        print(f\"RGB: ({color[0]}, {color[1]}, {color[2]})\")\n",
    "        print(f\"Red:   {red_binary}\")\n",
    "        print(f\"Green: {green_binary}\")\n",
    "        print(f\"Blue:  {blue_binary}\")\n",
    "\n",
    "        input(\"Press Enter for the next color.\")\n",
    "\n",
    "if __name__ == \"__main__\":\n",
    "    num_iterations = 5  # Adjust the number of iterations as needed\n",
    "    display_binary_color(num_iterations)"
   ]
  }
 ],
 "metadata": {
  "kernelspec": {
   "display_name": "Python 3",
   "language": "python",
   "name": "python3"
  },
  "language_info": {
   "codemirror_mode": {
    "name": "ipython",
    "version": 3
   },
   "file_extension": ".py",
   "mimetype": "text/x-python",
   "name": "python",
   "nbconvert_exporter": "python",
   "pygments_lexer": "ipython3",
   "version": "3.10.12"
  }
 },
 "nbformat": 4,
 "nbformat_minor": 2
}
