{
 "cells": [
  {
   "cell_type": "markdown",
   "metadata": {},
   "source": [
    "---\n",
    "toc: false\n",
    "comments: false\n",
    "layout: base\n",
    "title: Binary Color Generator\n",
    "description: Random color generator chooses random numbers between 0 and 255 for each of red, green, and blue. The decimal is converted into 8-bit binary and displays the color combination in (R, G, B) and their binary representaations.\n",
    "courses: {compsci: {week: 13}}\n",
    "type: tangibles\n",
    "---"
   ]
  },
  {
   "cell_type": "code",
   "execution_count": 35,
   "metadata": {},
   "outputs": [
    {
     "name": "stdout",
     "output_type": "stream",
     "text": [
      "RGB: (134, 102, 80)\n",
      "Red:   10000110\n",
      "Green: 01100110\n",
      "Blue:  01010000\n",
      "RGB: (85, 18, 202)\n",
      "Red:   01010101\n",
      "Green: 00010010\n",
      "Blue:  11001010\n",
      "RGB: (14, 68, 235)\n",
      "Red:   00001110\n",
      "Green: 01000100\n",
      "Blue:  11101011\n"
     ]
    }
   ],
   "source": [
    "import random\n",
    "\n",
    "def generate_random_color():\n",
    "    red = random.randint(0, 255)\n",
    "    green = random.randint(0, 255)\n",
    "    blue = random.randint(0, 255)\n",
    "    return red, green, blue\n",
    "# RGB values between 0 and 255\n",
    "\n",
    "def decimal_to_binary(decimal):\n",
    "    binary = bin(decimal)[2:]\n",
    "    return binary.zfill(8)\n",
    "# 8-bit binary representation\n",
    "\n",
    "def display_binary_color(num_iterations):\n",
    "    for _ in range(num_iterations):\n",
    "        color = generate_random_color()\n",
    "        red_binary = decimal_to_binary(color[0])\n",
    "        green_binary = decimal_to_binary(color[1])\n",
    "        blue_binary = decimal_to_binary(color[2])\n",
    "        # individual value conversion to binary\n",
    "\n",
    "        print(f\"RGB: ({color[0]}, {color[1]}, {color[2]})\")\n",
    "        print(f\"Red:   {red_binary}\")\n",
    "        print(f\"Green: {green_binary}\")\n",
    "        print(f\"Blue:  {blue_binary}\")\n",
    "        # displays each color's binary sequence\n",
    "\n",
    "        input(\"Press Enter for the next color.\")\n",
    "\n",
    "if __name__ == \"__main__\":\n",
    "    num_iterations = 3\n",
    "    display_binary_color(num_iterations)\n",
    "    # limits to 3 interations rather than indefinite"
   ]
  },
  {
   "cell_type": "code",
   "execution_count": 37,
   "metadata": {
    "vscode": {
     "languageId": "javascript"
    }
   },
   "outputs": [
    {
     "data": {
      "application/javascript": "\n// validating RGB values\nfunction isValidRGB(value) {\n    const intValue = parseInt(value, 10);\n    return !isNaN(intValue) && intValue >= 0 && intValue <= 255;\n}\n\n// converting RGB values to binary\nfunction convertRGBToBinary(red, green, blue) {\n    const redBinary = decToBinary(red);\n    const greenBinary = decToBinary(green);\n    const blueBinary = decToBinary(blue);\n    return `(${redBinary}, ${greenBinary}, ${blueBinary})`;\n}\n\n// decimal number to binary\nfunction decToBinary(decimal) {\n    return (decimal >>> 0).toString(2);\n}\n\n// RGB value input\nconst red = 400;\nconst green = 64;\nconst blue = 255;\n\n// displaying color in RGB\nif (isValidRGB(red) && isValidRGB(green) && isValidRGB(blue)) {\n    const rgbColor = `rgb(${red}, ${green}, ${blue})`;\n    console.log(`Color in RGB: ${rgbColor}`);\n\n    // converting RGB to binary\n    const binaryColor = convertRGBToBinary(red, green, blue);\n    console.log(`Color in Binary: ${binaryColor}`);\n} else {\n    console.log(\"Invalid RGB values. Please enter values between 0 and 255.\");\n}\n",
      "text/plain": [
       "<IPython.core.display.Javascript object>"
      ]
     },
     "metadata": {},
     "output_type": "display_data"
    }
   ],
   "source": [
    "%%javascript\n",
    "\n",
    "// validating RGB values\n",
    "function isValidRGB(value) {\n",
    "    const intValue = parseInt(value, 10);\n",
    "    return !isNaN(intValue) && intValue >= 0 && intValue <= 255;\n",
    "}\n",
    "\n",
    "// converting RGB values to binary\n",
    "function convertRGBToBinary(red, green, blue) {\n",
    "    const redBinary = decToBinary(red);\n",
    "    const greenBinary = decToBinary(green);\n",
    "    const blueBinary = decToBinary(blue);\n",
    "    return `(${redBinary}, ${greenBinary}, ${blueBinary})`;\n",
    "}\n",
    "\n",
    "// decimal number to binary\n",
    "function decToBinary(decimal) {\n",
    "    return (decimal >>> 0).toString(2);\n",
    "}\n",
    "\n",
    "// RGB value input\n",
    "const red = 100;\n",
    "const green = 64;\n",
    "const blue = 255;\n",
    "\n",
    "// displaying color in RGB\n",
    "if (isValidRGB(red) && isValidRGB(green) && isValidRGB(blue)) {\n",
    "    const rgbColor = `rgb(${red}, ${green}, ${blue})`;\n",
    "    console.log(`Color in RGB: ${rgbColor}`);\n",
    "\n",
    "    // converting RGB to binary\n",
    "    const binaryColor = convertRGBToBinary(red, green, blue);\n",
    "    console.log(`Color in Binary: ${binaryColor}`);\n",
    "} else {\n",
    "    console.log(\"Invalid RGB values. Please enter values between 0 and 255.\");\n",
    "}\n"
   ]
  },
  {
   "cell_type": "markdown",
   "metadata": {},
   "source": [
    "# Key Commits\n",
    "\n",
    "- "
   ]
  }
 ],
 "metadata": {
  "kernelspec": {
   "display_name": "Python 3",
   "language": "python",
   "name": "python3"
  },
  "language_info": {
   "codemirror_mode": {
    "name": "ipython",
    "version": 3
   },
   "file_extension": ".py",
   "mimetype": "text/x-python",
   "name": "python",
   "nbconvert_exporter": "python",
   "pygments_lexer": "ipython3",
   "version": "3.10.12"
  }
 },
 "nbformat": 4,
 "nbformat_minor": 2
}
