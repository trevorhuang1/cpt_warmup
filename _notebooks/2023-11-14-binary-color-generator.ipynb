{
 "cells": [
  {
   "cell_type": "markdown",
   "metadata": {},
   "source": [
    "---\n",
    "toc: false\n",
    "comments: true\n",
    "layout: base\n",
    "title: Binary Color Generator\n",
    "description: Random color generator chooses random numbers between 0 and 255 for each of red, green, and blue. The decimal is converted into 8-bit binary and displays the color combination in (R, G, B) and their binary representaations.\n",
    "courses: {compsci: {week: 1}}\n",
    "type: tangibles\n",
    "---"
   ]
  },
  {
   "cell_type": "markdown",
   "metadata": {},
   "source": [
    "## Binary Color Generator\n",
    "\n",
    "- Random input for Python\n",
    "- Preset for JavaScript"
   ]
  },
  {
   "cell_type": "code",
   "execution_count": 38,
   "metadata": {},
   "outputs": [
    {
     "name": "stdout",
     "output_type": "stream",
     "text": [
      "RGB: (2, 167, 66)\n",
      "Red:   00000010\n",
      "Green: 10100111\n",
      "Blue:  01000010\n",
      "RGB: (117, 182, 190)\n",
      "Red:   01110101\n",
      "Green: 10110110\n",
      "Blue:  10111110\n",
      "RGB: (255, 172, 38)\n",
      "Red:   11111111\n",
      "Green: 10101100\n",
      "Blue:  00100110\n"
     ]
    }
   ],
   "source": [
    "import random\n",
    "\n",
    "def generate_random_color():\n",
    "    red = random.randint(0, 255)\n",
    "    green = random.randint(0, 255)\n",
    "    blue = random.randint(0, 255)\n",
    "    return red, green, blue\n",
    "# RGB values between 0 and 255\n",
    "\n",
    "def decimal_to_binary(decimal):\n",
    "    binary = bin(decimal)[2:]\n",
    "    return binary.zfill(8)\n",
    "# 8-bit binary representation\n",
    "\n",
    "def display_binary_color(num_iterations):\n",
    "    for _ in range(num_iterations):\n",
    "        color = generate_random_color()\n",
    "        red_binary = decimal_to_binary(color[0])\n",
    "        green_binary = decimal_to_binary(color[1])\n",
    "        blue_binary = decimal_to_binary(color[2])\n",
    "        # individual value conversion to binary\n",
    "\n",
    "        print(f\"RGB: ({color[0]}, {color[1]}, {color[2]})\")\n",
    "        print(f\"Red:   {red_binary}\")\n",
    "        print(f\"Green: {green_binary}\")\n",
    "        print(f\"Blue:  {blue_binary}\")\n",
    "        # displays each color's binary sequence\n",
    "\n",
    "        input(\"Press Enter for the next color.\")\n",
    "\n",
    "if __name__ == \"__main__\":\n",
    "    num_iterations = 3\n",
    "    display_binary_color(num_iterations)\n",
    "    # limits to 3 interations rather than indefinite"
   ]
  },
  {
   "cell_type": "code",
   "execution_count": 40,
   "metadata": {
    "vscode": {
     "languageId": "javascript"
    }
   },
   "outputs": [
    {
     "data": {
      "application/javascript": "\n// validating RGB values\nfunction isValidRGB(value) {\n    const intValue = parseInt(value, 10);\n    return !isNaN(intValue) && intValue >= 0 && intValue <= 255;\n}\n\n// converting RGB values to binary\nfunction convertRGBToBinary(red, green, blue) {\n    const redBinary = decToBinary(red);\n    const greenBinary = decToBinary(green);\n    const blueBinary = decToBinary(blue);\n    return `(${redBinary}, ${greenBinary}, ${blueBinary})`;\n}\n\n// decimal number to binary\nfunction decToBinary(decimal) {\n    return (decimal >>> 0).toString(2);\n}\n\n// RGB value input\nconst red = 100;\nconst green = 64;\nconst blue = 255;\n\n// displaying color in RGB\nif (isValidRGB(red) && isValidRGB(green) && isValidRGB(blue)) {\n    const rgbColor = `rgb(${red}, ${green}, ${blue})`;\n    console.log(`Color in RGB: ${rgbColor}`);\n\n    // converting RGB to binary\n    const binaryColor = convertRGBToBinary(red, green, blue);\n    console.log(`Color in Binary: ${binaryColor}`);\n} else {\n    console.log(\"Invalid RGB values. Please enter values between 0 and 255.\");\n}\n",
      "text/plain": [
       "<IPython.core.display.Javascript object>"
      ]
     },
     "metadata": {},
     "output_type": "display_data"
    }
   ],
   "source": [
    "%%javascript\n",
    "\n",
    "// validating RGB values\n",
    "function isValidRGB(value) {\n",
    "    const intValue = parseInt(value, 10);\n",
    "    return !isNaN(intValue) && intValue >= 0 && intValue <= 255;\n",
    "}\n",
    "\n",
    "// converting RGB values to binary\n",
    "function convertRGBToBinary(red, green, blue) {\n",
    "    const redBinary = decToBinary(red);\n",
    "    const greenBinary = decToBinary(green);\n",
    "    const blueBinary = decToBinary(blue);\n",
    "    return `(${redBinary}, ${greenBinary}, ${blueBinary})`;\n",
    "}\n",
    "\n",
    "// decimal number to binary\n",
    "function decToBinary(decimal) {\n",
    "    return (decimal >>> 0).toString(2);\n",
    "}\n",
    "\n",
    "// RGB value input\n",
    "const red = 100;\n",
    "const green = 64;\n",
    "const blue = 255;\n",
    "\n",
    "// displaying color in RGB\n",
    "if (isValidRGB(red) && isValidRGB(green) && isValidRGB(blue)) {\n",
    "    const rgbColor = `rgb(${red}, ${green}, ${blue})`;\n",
    "    console.log(`Color in RGB: ${rgbColor}`);\n",
    "\n",
    "    // converting RGB to binary\n",
    "    const binaryColor = convertRGBToBinary(red, green, blue);\n",
    "    console.log(`Color in Binary: ${binaryColor}`);\n",
    "} else {\n",
    "    console.log(\"Invalid RGB values. Please enter values between 0 and 255.\");\n",
    "}"
   ]
  },
  {
   "cell_type": "markdown",
   "metadata": {},
   "source": [
    "## Output Colors\n",
    "\n",
    "### Red\n",
    "\n",
    "<img src=\"https://media.discordapp.net/attachments/796087225535168512/1179499362620035092/image.png?ex=657a0162&is=65678c62&hm=f443612e6ea1ace76b901f41812703ed460880c4b73990a87a112bf4d4a9072d&=&format=webp&quality=lossless&width=163&height=154\" \n",
    "     width=\"400\" \n",
    "     height=\"400\" />\n",
    "\n",
    "\n",
    "### Green\n",
    "\n",
    "<img src=\"https://media.discordapp.net/attachments/796087225535168512/1179499457218351214/image.png?ex=657a0178&is=65678c78&hm=ebdf45c99f8dbbed4cdf5183dd84ac632cbaecd2a7efeed89a7b5d8bf56116b3&=&format=webp&quality=lossless&width=172&height=159\" \n",
    "     width=\"400\" \n",
    "     height=\"400\" />\n",
    "\n",
    "\n",
    "### Blue\n",
    "\n",
    "<img src=\"https://media.discordapp.net/attachments/796087225535168512/1179499565330739301/image.png?ex=657a0192&is=65678c92&hm=2b2fd29d7402cfaffbc5510e41c53f2c5057ef4302ab2edb1463927939850e04&=&format=webp&quality=lossless&width=163&height=154\" \n",
    "     width=\"400\" \n",
    "     height=\"400\" />\n",
    "\n",
    "\n",
    "### Final Color\n",
    "\n",
    "<img src=\"https://media.discordapp.net/attachments/796087225535168512/1179499703075876884/image.png?ex=657a01b3&is=65678cb3&hm=b28e2f1dbdc241fe810d3050aa1a0ba2266d2220b601bd56a58d3b61059ed916&=&format=webp&quality=lossless&width=195&height=175\" \n",
    "     width=\"400\" \n",
    "     height=\"400\" />"
   ]
  }
 ],
 "metadata": {
  "kernelspec": {
   "display_name": "Python 3",
   "language": "python",
   "name": "python3"
  },
  "language_info": {
   "codemirror_mode": {
    "name": "ipython",
    "version": 3
   },
   "file_extension": ".py",
   "mimetype": "text/x-python",
   "name": "python",
   "nbconvert_exporter": "python",
   "pygments_lexer": "ipython3",
   "version": "3.10.12"
  }
 },
 "nbformat": 4,
 "nbformat_minor": 2
}
