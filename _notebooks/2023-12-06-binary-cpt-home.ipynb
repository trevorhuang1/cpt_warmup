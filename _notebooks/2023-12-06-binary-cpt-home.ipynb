{
 "cells": [
  {
   "cell_type": "markdown",
   "metadata": {},
   "source": [
    "---\n",
    "layout: post\n",
    "title: CPT Home\n",
    "description: Compilation of all binary CPT project features\n",
    "courses: { compsci: {week: 2} }\n",
    "type: tangibles\n",
    "permalink: /binarycpt/home\n",
    "comments: true\n",
    "---"
   ]
  },
  {
   "cell_type": "raw",
   "metadata": {},
   "source": [
    "{% include binarycpt.html %}"
   ]
  }
 ],
 "metadata": {
  "language_info": {
   "name": "python"
  }
 },
 "nbformat": 4,
 "nbformat_minor": 2
}
